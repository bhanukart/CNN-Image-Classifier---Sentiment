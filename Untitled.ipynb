{
 "cells": [
  {
   "cell_type": "code",
   "execution_count": 1,
   "id": "beea2898",
   "metadata": {},
   "outputs": [],
   "source": [
    "import tensorflow as tf\n",
    "import os"
   ]
  },
  {
   "cell_type": "code",
   "execution_count": 7,
   "id": "2cb80666",
   "metadata": {},
   "outputs": [],
   "source": [
    "import cv2\n",
    "import imghdr\n",
    "import matplotlib.pyplot as plt"
   ]
  },
  {
   "cell_type": "code",
   "execution_count": 6,
   "id": "e91acd43",
   "metadata": {},
   "outputs": [],
   "source": [
    "data_dir = 'data'\n",
    "image_exts = ['jpg','jpeg','bmp','png']"
   ]
  },
  {
   "cell_type": "code",
   "execution_count": 9,
   "id": "b1e1c9d5",
   "metadata": {},
   "outputs": [
    {
     "name": "stdout",
     "output_type": "stream",
     "text": [
      "Image not in extension list data\\happy\\Happy20People.jpg\n",
      "Image not in extension list data\\happy\\how-to-watch-shiny-happy-people-64a2f8ea7dc3014582658-900.webp\n",
      "Image not in extension list data\\sad\\depositphotos_19568511-stock-photo-teenage-girl-looking-thoughtful-about.jpg\n",
      "Image not in extension list data\\sad\\depositphotos_210655610-stock-photo-sad-man-sitting-floor-home.jpg\n",
      "Image not in extension list data\\sad\\depositphotos_4584891-stock-photo-sad-man-in-a-empty.jpg\n",
      "Image not in extension list data\\sad\\sad-quotes-62.webp\n"
     ]
    }
   ],
   "source": [
    "for img_class in os.listdir(data_dir):\n",
    "    for img in os.listdir(os.path.join(data_dir,img_class)):\n",
    "        img_path = os.path.join(data_dir,img_class,img)\n",
    "        try:\n",
    "            img = cv2.imread(img_path)\n",
    "            tip = imghdr.what(img_path)\n",
    "            if tip not in image_exts:\n",
    "                print('Image not in extension list {}'.format(img_path))\n",
    "                os.remove(img_path)\n",
    "        except Exception as e:\n",
    "            print('Issue with image {}'.format(img_path))"
   ]
  },
  {
   "cell_type": "code",
   "execution_count": 10,
   "id": "92727246",
   "metadata": {},
   "outputs": [],
   "source": [
    "import numpy as np"
   ]
  },
  {
   "cell_type": "code",
   "execution_count": null,
   "id": "6227df49",
   "metadata": {},
   "outputs": [],
   "source": []
  }
 ],
 "metadata": {
  "kernelspec": {
   "display_name": "Python 3 (ipykernel)",
   "language": "python",
   "name": "python3"
  },
  "language_info": {
   "codemirror_mode": {
    "name": "ipython",
    "version": 3
   },
   "file_extension": ".py",
   "mimetype": "text/x-python",
   "name": "python",
   "nbconvert_exporter": "python",
   "pygments_lexer": "ipython3",
   "version": "3.11.3"
  }
 },
 "nbformat": 4,
 "nbformat_minor": 5
}
